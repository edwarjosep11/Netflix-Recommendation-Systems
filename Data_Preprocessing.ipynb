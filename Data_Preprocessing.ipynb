{
 "cells": [
  {
   "attachments": {},
   "cell_type": "markdown",
   "metadata": {},
   "source": [
    "# Loading and Preprocessing the data from MovieLens"
   ]
  },
  {
   "cell_type": "code",
   "execution_count": 19,
   "metadata": {},
   "outputs": [],
   "source": [
    "# Libraries\n",
    "import pandas as pd\n",
    "import os"
   ]
  },
  {
   "cell_type": "code",
   "execution_count": 6,
   "metadata": {},
   "outputs": [],
   "source": [
    "# Defining file directories\n",
    "data_directory = 'data'\n",
    "users_data = 'users.dat'\n",
    "movies_data = 'movies.dat'\n",
    "rating_data = 'ratings.dat'"
   ]
  },
  {
   "cell_type": "code",
   "execution_count": 7,
   "metadata": {},
   "outputs": [],
   "source": [
    "# Csv file naes to be saved\n",
    "users_to_csv = 'users.csv'\n",
    "movies_to_csv = 'movies.csv'\n",
    "ratings_to_csv = 'ratings.csv'"
   ]
  },
  {
   "cell_type": "code",
   "execution_count": 24,
   "metadata": {},
   "outputs": [],
   "source": [
    "# Loading the Ratings file data\n",
    "ratings = pd.read_csv(os.path.join(data_directory, rating_data), sep='::', engine='python', encoding='latin-1', names=['user_id', 'movie_id', 'rating', 'timestamp'])\n",
    "#The .drop method remove duplicate values of user_id, so that only the unique user ids are considered. The .max method is  used to find the maximum value of user_id among the remaining unique user ids.\n",
    "max_userid = ratings['user_id'].drop_duplicates().max()\n",
    "max_movieid = ratings['movie_id'].drop_duplicates().max()"
   ]
  },
  {
   "attachments": {},
   "cell_type": "markdown",
   "metadata": {},
   "source": [
    "The following code is preparing the ratings data to be used for training a deep learning model using the Keras library. \n",
    "* The first line is creating two new columns in the ratings dataframe called \"user_emb_id\" and \"movie_emb_id\".\n",
    "* The second line sets the values in the \"user_emb_id\" column to be the corresponding user_id value minus one. This is because the model will use embedding layers to represent the users and movies as numerical vectors, and embedding layers in Keras expect input to be zero-indexed.\n",
    "* The third line sets the values in the \"movie_emb_id\" column to be the corresponding movie_id value minus one, again to make sure the inputs are zero-indexed.\n",
    "* The fourth line is simply printing the number of ratings that were loaded into the dataframe after these changes were made."
   ]
  },
  {
   "cell_type": "code",
   "execution_count": 25,
   "metadata": {},
   "outputs": [
    {
     "name": "stdout",
     "output_type": "stream",
     "text": [
      "In total 1000209 ratings were loaded.\n"
     ]
    }
   ],
   "source": [
    "ratings['user_emb_id'] = ratings['user_id'] - 1\n",
    "# Add movie_emb_id column whose values == movie_id - 1\n",
    "ratings['movie_emb_id'] = ratings['movie_id'] - 1\n",
    "# Save into ratings.csv\n",
    "ratings.to_csv(ratings_to_csv, \n",
    "               sep='\\t', \n",
    "               header=True, \n",
    "               encoding='latin-1', \n",
    "               columns=['user_id', 'movie_id', 'rating', 'timestamp', 'user_emb_id', 'movie_emb_id'])\n",
    "print('In total', len(ratings), 'ratings were loaded.')"
   ]
  },
  {
   "cell_type": "code",
   "execution_count": 22,
   "metadata": {},
   "outputs": [],
   "source": [
    "# Updating the Users file data with the full information\n",
    "ages = { 1: \"Under 18\", 18: \"18-24\", 25: \"25-34\", 35: \"35-44\", 45: \"45-49\", 50: \"50-55\", 56: \"56+\" }\n",
    "occupations = { 0: \"other or not specified\", 1: \"academic/educator\", 2: \"artist\", 3: \"clerical/admin\",\n",
    "                4: \"college/grad student\", 5: \"customer service\", 6: \"doctor/health care\",\n",
    "                7: \"executive/managerial\", 8: \"farmer\", 9: \"homemaker\", 10: \"K-12 student\", 11: \"lawyer\",\n",
    "                12: \"programmer\", 13: \"retired\", 14: \"sales/marketing\", 15: \"scientist\", 16: \"self-employed\",\n",
    "                17: \"technician/engineer\", 18: \"tradesman/craftsman\", 19: \"unemployed\", 20: \"writer\" }\n",
    "\n",
    "# Loading the Users file data \n",
    "users = pd.read_csv(os.path.join(data_directory, users_data), \n",
    "                    sep='::', \n",
    "                    engine='python', \n",
    "                    encoding='latin-1',\n",
    "                    names=['user_id', 'gender', 'age', 'occupation', 'zipcode'])\n",
    "users['age_desc'] = users['age'].apply(lambda x: ages[x])\n",
    "users['occ_desc'] = users['occupation'].apply(lambda x: occupations[x])\n",
    "\n",
    "# Save to users.csv\n",
    "users.to_csv(path_or_buf='users.csv', \n",
    "             sep='\\t', \n",
    "             header=True, \n",
    "             encoding='latin-1',\n",
    "             columns=['user_id', 'gender', 'age', 'occupation', 'zipcode', 'age_desc', 'occ_desc'])"
   ]
  },
  {
   "cell_type": "code",
   "execution_count": 23,
   "metadata": {},
   "outputs": [],
   "source": [
    "# Read the Movies File\n",
    "movies = pd.read_csv(os.path.join(data_directory, movies_data), \n",
    "                    sep='::', \n",
    "                    engine='python', \n",
    "                    encoding='latin-1',\n",
    "                    names=['movie_id', 'title', 'genres'])\n",
    "# Save into movies.csv\n",
    "movies.to_csv(movies_to_csv, \n",
    "              sep='\\t', \n",
    "              header=True, \n",
    "              columns=['movie_id', 'title', 'genres'])"
   ]
  }
 ],
 "metadata": {
  "kernelspec": {
   "display_name": "Python 3",
   "language": "python",
   "name": "python3"
  },
  "language_info": {
   "codemirror_mode": {
    "name": "ipython",
    "version": 3
   },
   "file_extension": ".py",
   "mimetype": "text/x-python",
   "name": "python",
   "nbconvert_exporter": "python",
   "pygments_lexer": "ipython3",
   "version": "3.10.4"
  },
  "orig_nbformat": 4
 },
 "nbformat": 4,
 "nbformat_minor": 2
}
